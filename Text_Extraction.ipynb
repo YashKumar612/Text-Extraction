{
  "cells": [
    {
      "cell_type": "markdown",
      "metadata": {
        "id": "cavSDr1xUs-9"
      },
      "source": [
        "#Text Extraction from any file type"
      ]
    },
    {
      "cell_type": "markdown",
      "metadata": {
        "id": "t8zOuQ8_IzH7"
      },
      "source": [
        "#1\n",
        "##Install various libraries\n",
        "We may use few of them but these are for your future refrances."
      ]
    },
    {
      "cell_type": "code",
      "execution_count": 2,
      "metadata": {
        "colab": {
          "base_uri": "https://localhost:8080/"
        },
        "id": "5S8DQwSfwV06",
        "outputId": "9b899ed4-9350-4948-c384-13b960b6f768"
      },
      "outputs": [
        {
          "name": "stdout",
          "output_type": "stream",
          "text": [
            "Requirement already satisfied: PyPDF2 in /Library/Frameworks/Python.framework/Versions/3.9/lib/python3.9/site-packages (3.0.1)\n",
            "Requirement already satisfied: typing_extensions>=3.10.0.0 in /Library/Frameworks/Python.framework/Versions/3.9/lib/python3.9/site-packages (from PyPDF2) (4.0.1)\n",
            "\u001b[33mWARNING: You are using pip version 21.1.3; however, version 23.2.1 is available.\n",
            "You should consider upgrading via the '/Library/Frameworks/Python.framework/Versions/3.9/bin/python3 -m pip install --upgrade pip' command.\u001b[0m\n",
            "Note: you may need to restart the kernel to use updated packages.\n",
            "Requirement already satisfied: textract in /Library/Frameworks/Python.framework/Versions/3.9/lib/python3.9/site-packages (1.6.5)\n",
            "Requirement already satisfied: docx2txt~=0.8 in /Library/Frameworks/Python.framework/Versions/3.9/lib/python3.9/site-packages (from textract) (0.8)\n",
            "Requirement already satisfied: chardet==3.* in /Library/Frameworks/Python.framework/Versions/3.9/lib/python3.9/site-packages (from textract) (3.0.4)\n",
            "Requirement already satisfied: python-pptx~=0.6.18 in /Library/Frameworks/Python.framework/Versions/3.9/lib/python3.9/site-packages (from textract) (0.6.21)\n",
            "Requirement already satisfied: beautifulsoup4~=4.8.0 in /Library/Frameworks/Python.framework/Versions/3.9/lib/python3.9/site-packages (from textract) (4.8.2)\n",
            "Requirement already satisfied: six~=1.12.0 in /Library/Frameworks/Python.framework/Versions/3.9/lib/python3.9/site-packages (from textract) (1.12.0)\n",
            "Requirement already satisfied: argcomplete~=1.10.0 in /Library/Frameworks/Python.framework/Versions/3.9/lib/python3.9/site-packages (from textract) (1.10.3)\n",
            "Requirement already satisfied: pdfminer.six==20191110 in /Library/Frameworks/Python.framework/Versions/3.9/lib/python3.9/site-packages (from textract) (20191110)\n",
            "Requirement already satisfied: SpeechRecognition~=3.8.1 in /Library/Frameworks/Python.framework/Versions/3.9/lib/python3.9/site-packages (from textract) (3.8.1)\n",
            "Requirement already satisfied: extract-msg<=0.29.* in /Library/Frameworks/Python.framework/Versions/3.9/lib/python3.9/site-packages (from textract) (0.28.7)\n",
            "Requirement already satisfied: xlrd~=1.2.0 in /Library/Frameworks/Python.framework/Versions/3.9/lib/python3.9/site-packages (from textract) (1.2.0)\n",
            "Requirement already satisfied: pycryptodome in /Library/Frameworks/Python.framework/Versions/3.9/lib/python3.9/site-packages (from pdfminer.six==20191110->textract) (3.18.0)\n",
            "Requirement already satisfied: sortedcontainers in /Library/Frameworks/Python.framework/Versions/3.9/lib/python3.9/site-packages (from pdfminer.six==20191110->textract) (2.4.0)\n",
            "Requirement already satisfied: soupsieve>=1.2 in /Library/Frameworks/Python.framework/Versions/3.9/lib/python3.9/site-packages (from beautifulsoup4~=4.8.0->textract) (2.4.1)\n",
            "Requirement already satisfied: tzlocal>=2.1 in /Library/Frameworks/Python.framework/Versions/3.9/lib/python3.9/site-packages (from extract-msg<=0.29.*->textract) (5.0.1)\n",
            "Requirement already satisfied: ebcdic>=1.1.1 in /Library/Frameworks/Python.framework/Versions/3.9/lib/python3.9/site-packages (from extract-msg<=0.29.*->textract) (1.1.1)\n",
            "Requirement already satisfied: compressed-rtf>=1.0.6 in /Library/Frameworks/Python.framework/Versions/3.9/lib/python3.9/site-packages (from extract-msg<=0.29.*->textract) (1.0.6)\n",
            "Requirement already satisfied: imapclient==2.1.0 in /Library/Frameworks/Python.framework/Versions/3.9/lib/python3.9/site-packages (from extract-msg<=0.29.*->textract) (2.1.0)\n",
            "Requirement already satisfied: olefile>=0.46 in /Library/Frameworks/Python.framework/Versions/3.9/lib/python3.9/site-packages (from extract-msg<=0.29.*->textract) (0.46)\n",
            "Requirement already satisfied: lxml>=3.1.0 in /Library/Frameworks/Python.framework/Versions/3.9/lib/python3.9/site-packages (from python-pptx~=0.6.18->textract) (4.9.3)\n",
            "Requirement already satisfied: Pillow>=3.3.2 in /Library/Frameworks/Python.framework/Versions/3.9/lib/python3.9/site-packages (from python-pptx~=0.6.18->textract) (9.0.0)\n",
            "Requirement already satisfied: XlsxWriter>=0.5.7 in /Library/Frameworks/Python.framework/Versions/3.9/lib/python3.9/site-packages (from python-pptx~=0.6.18->textract) (3.1.2)\n",
            "\u001b[33mWARNING: You are using pip version 21.1.3; however, version 23.2.1 is available.\n",
            "You should consider upgrading via the '/Library/Frameworks/Python.framework/Versions/3.9/bin/python3 -m pip install --upgrade pip' command.\u001b[0m\n",
            "Note: you may need to restart the kernel to use updated packages.\n",
            "Requirement already satisfied: pytesseract in /Library/Frameworks/Python.framework/Versions/3.9/lib/python3.9/site-packages (0.3.10)\n",
            "Requirement already satisfied: packaging>=21.3 in /Library/Frameworks/Python.framework/Versions/3.9/lib/python3.9/site-packages (from pytesseract) (21.3)\n",
            "Requirement already satisfied: Pillow>=8.0.0 in /Library/Frameworks/Python.framework/Versions/3.9/lib/python3.9/site-packages (from pytesseract) (9.0.0)\n",
            "Requirement already satisfied: pyparsing!=3.0.5,>=2.0.2 in /Library/Frameworks/Python.framework/Versions/3.9/lib/python3.9/site-packages (from packaging>=21.3->pytesseract) (3.0.7)\n",
            "\u001b[33mWARNING: You are using pip version 21.1.3; however, version 23.2.1 is available.\n",
            "You should consider upgrading via the '/Library/Frameworks/Python.framework/Versions/3.9/bin/python3 -m pip install --upgrade pip' command.\u001b[0m\n",
            "Note: you may need to restart the kernel to use updated packages.\n",
            "zsh:1: command not found: apt-get\n",
            "zsh:1: command not found: apt-get\n",
            "Requirement already satisfied: pytesseract in /Library/Frameworks/Python.framework/Versions/3.9/lib/python3.9/site-packages (0.3.10)\n",
            "Requirement already satisfied: Pillow>=8.0.0 in /Library/Frameworks/Python.framework/Versions/3.9/lib/python3.9/site-packages (from pytesseract) (9.0.0)\n",
            "Requirement already satisfied: packaging>=21.3 in /Library/Frameworks/Python.framework/Versions/3.9/lib/python3.9/site-packages (from pytesseract) (21.3)\n",
            "Requirement already satisfied: pyparsing!=3.0.5,>=2.0.2 in /Library/Frameworks/Python.framework/Versions/3.9/lib/python3.9/site-packages (from packaging>=21.3->pytesseract) (3.0.7)\n",
            "\u001b[33mWARNING: You are using pip version 21.1.3; however, version 23.2.1 is available.\n",
            "You should consider upgrading via the '/Library/Frameworks/Python.framework/Versions/3.9/bin/python3 -m pip install --upgrade pip' command.\u001b[0m\n",
            "Note: you may need to restart the kernel to use updated packages.\n",
            "Requirement already satisfied: textract in /Library/Frameworks/Python.framework/Versions/3.9/lib/python3.9/site-packages (1.6.5)\n",
            "Requirement already satisfied: xlrd~=1.2.0 in /Library/Frameworks/Python.framework/Versions/3.9/lib/python3.9/site-packages (from textract) (1.2.0)\n",
            "Requirement already satisfied: argcomplete~=1.10.0 in /Library/Frameworks/Python.framework/Versions/3.9/lib/python3.9/site-packages (from textract) (1.10.3)\n",
            "Requirement already satisfied: SpeechRecognition~=3.8.1 in /Library/Frameworks/Python.framework/Versions/3.9/lib/python3.9/site-packages (from textract) (3.8.1)\n",
            "Requirement already satisfied: pdfminer.six==20191110 in /Library/Frameworks/Python.framework/Versions/3.9/lib/python3.9/site-packages (from textract) (20191110)\n",
            "Requirement already satisfied: docx2txt~=0.8 in /Library/Frameworks/Python.framework/Versions/3.9/lib/python3.9/site-packages (from textract) (0.8)\n",
            "Requirement already satisfied: python-pptx~=0.6.18 in /Library/Frameworks/Python.framework/Versions/3.9/lib/python3.9/site-packages (from textract) (0.6.21)\n",
            "Requirement already satisfied: extract-msg<=0.29.* in /Library/Frameworks/Python.framework/Versions/3.9/lib/python3.9/site-packages (from textract) (0.28.7)\n",
            "Requirement already satisfied: beautifulsoup4~=4.8.0 in /Library/Frameworks/Python.framework/Versions/3.9/lib/python3.9/site-packages (from textract) (4.8.2)\n",
            "Requirement already satisfied: six~=1.12.0 in /Library/Frameworks/Python.framework/Versions/3.9/lib/python3.9/site-packages (from textract) (1.12.0)\n",
            "Requirement already satisfied: chardet==3.* in /Library/Frameworks/Python.framework/Versions/3.9/lib/python3.9/site-packages (from textract) (3.0.4)\n",
            "Requirement already satisfied: pycryptodome in /Library/Frameworks/Python.framework/Versions/3.9/lib/python3.9/site-packages (from pdfminer.six==20191110->textract) (3.18.0)\n",
            "Requirement already satisfied: sortedcontainers in /Library/Frameworks/Python.framework/Versions/3.9/lib/python3.9/site-packages (from pdfminer.six==20191110->textract) (2.4.0)\n",
            "Requirement already satisfied: soupsieve>=1.2 in /Library/Frameworks/Python.framework/Versions/3.9/lib/python3.9/site-packages (from beautifulsoup4~=4.8.0->textract) (2.4.1)\n",
            "Requirement already satisfied: tzlocal>=2.1 in /Library/Frameworks/Python.framework/Versions/3.9/lib/python3.9/site-packages (from extract-msg<=0.29.*->textract) (5.0.1)\n",
            "Requirement already satisfied: compressed-rtf>=1.0.6 in /Library/Frameworks/Python.framework/Versions/3.9/lib/python3.9/site-packages (from extract-msg<=0.29.*->textract) (1.0.6)\n",
            "Requirement already satisfied: ebcdic>=1.1.1 in /Library/Frameworks/Python.framework/Versions/3.9/lib/python3.9/site-packages (from extract-msg<=0.29.*->textract) (1.1.1)\n",
            "Requirement already satisfied: imapclient==2.1.0 in /Library/Frameworks/Python.framework/Versions/3.9/lib/python3.9/site-packages (from extract-msg<=0.29.*->textract) (2.1.0)\n",
            "Requirement already satisfied: olefile>=0.46 in /Library/Frameworks/Python.framework/Versions/3.9/lib/python3.9/site-packages (from extract-msg<=0.29.*->textract) (0.46)\n",
            "Requirement already satisfied: XlsxWriter>=0.5.7 in /Library/Frameworks/Python.framework/Versions/3.9/lib/python3.9/site-packages (from python-pptx~=0.6.18->textract) (3.1.2)\n",
            "Requirement already satisfied: lxml>=3.1.0 in /Library/Frameworks/Python.framework/Versions/3.9/lib/python3.9/site-packages (from python-pptx~=0.6.18->textract) (4.9.3)\n",
            "Requirement already satisfied: Pillow>=3.3.2 in /Library/Frameworks/Python.framework/Versions/3.9/lib/python3.9/site-packages (from python-pptx~=0.6.18->textract) (9.0.0)\n",
            "\u001b[33mWARNING: You are using pip version 21.1.3; however, version 23.2.1 is available.\n",
            "You should consider upgrading via the '/Library/Frameworks/Python.framework/Versions/3.9/bin/python3 -m pip install --upgrade pip' command.\u001b[0m\n",
            "Note: you may need to restart the kernel to use updated packages.\n",
            "Requirement already satisfied: pdf2image in /Library/Frameworks/Python.framework/Versions/3.9/lib/python3.9/site-packages (1.16.3)\n",
            "Requirement already satisfied: pillow in /Library/Frameworks/Python.framework/Versions/3.9/lib/python3.9/site-packages (from pdf2image) (9.0.0)\n",
            "\u001b[33mWARNING: You are using pip version 21.1.3; however, version 23.2.1 is available.\n",
            "You should consider upgrading via the '/Library/Frameworks/Python.framework/Versions/3.9/bin/python3 -m pip install --upgrade pip' command.\u001b[0m\n",
            "Note: you may need to restart the kernel to use updated packages.\n",
            "zsh:1: command not found: apt-get\n"
          ]
        }
      ],
      "source": [
        "%pip install PyPDF2  # Install PyPDF2 library for working with PDF files\n",
        "%pip install textract  # Install textract library for extracting text from various file formats\n",
        "%pip install pytesseract  # Install pytesseract library for optical character recognition (OCR)\n",
        "!apt-get install tesseract-ocr  # Install Tesseract OCR engine\n",
        "!apt-get install libtesseract-dev  # Install Tesseract development libraries\n",
        "%pip install pytesseract  # Install pytesseract Python wrapper for Tesseract OCR\n",
        "%pip install textract  # Install textract library for text extraction from various file types\n",
        "%pip install pdf2image  # Install pdf2image library for converting PDFs to images\n",
        "!apt-get install poppler-utils  # Install poppler-utils for working with PDFs and extracting text"
      ]
    },
    {
      "cell_type": "markdown",
      "metadata": {
        "id": "lfpUYL8pJkjZ"
      },
      "source": [
        "#2\n",
        "##Import the required libraries"
      ]
    },
    {
      "cell_type": "code",
      "execution_count": 3,
      "metadata": {
        "id": "GS2dzYJ7wix4"
      },
      "outputs": [],
      "source": [
        "from PyPDF2 import PdfReader  # Import PdfReader class from PyPDF2 library for reading PDF files\n",
        "import pytesseract  # Import pytesseract library for OCR (text extraction from images)\n",
        "from PIL import Image  # Import Image class from Pillow library for image manipulation\n",
        "import textract  # Import textract library for text extraction from various file formats"
      ]
    },
    {
      "cell_type": "markdown",
      "metadata": {
        "id": "xIjZ6e5FJz3x"
      },
      "source": [
        "#3\n",
        "##Text extraction from Pdf"
      ]
    },
    {
      "cell_type": "code",
      "execution_count": 4,
      "metadata": {
        "id": "3S4JrVSZwlB_"
      },
      "outputs": [],
      "source": [
        "def extract_text_from_pdf(pdf_path):\n",
        "    text = \"\"  # Initialize an empty string to store the extracted text\n",
        "    with open(pdf_path, 'rb') as file:  # Open the PDF file in read-binary mode\n",
        "        reader = PdfReader(file)  # Create a PDF reader object\n",
        "        for page in reader.pages:  # Iterate through each page in the PDF\n",
        "            text += page.extract_text()  # Extract the text from the current page and append it to the 'text' variable\n",
        "    return text  # Return the extracted text\n"
      ]
    },
    {
      "cell_type": "markdown",
      "metadata": {
        "id": "Vg_sIshwKI7o"
      },
      "source": [
        "#4\n",
        "##Text extraction from Image"
      ]
    },
    {
      "cell_type": "code",
      "execution_count": 5,
      "metadata": {
        "id": "n-yslFs3wr-s"
      },
      "outputs": [],
      "source": [
        "def extract_text_from_image(image_path):\n",
        "    image = Image.open(image_path)  # Open the image file using PIL's Image class\n",
        "    text = pytesseract.image_to_string(image)  # Use pytesseract to extract text from the image\n",
        "    return text  # Return the extracted text\n"
      ]
    },
    {
      "cell_type": "markdown",
      "metadata": {
        "id": "80oqkG-zL0uu"
      },
      "source": [
        "#5\n",
        "##Text extraction from any file type."
      ]
    },
    {
      "cell_type": "code",
      "execution_count": 6,
      "metadata": {
        "id": "rrJTj2OpwuUI"
      },
      "outputs": [],
      "source": [
        "def extract_text_from_other(file_path):\n",
        "    text = textract.process(file_path)  # Use textract to extract text from the file\n",
        "    return text.decode('utf-8')  # Decode the extracted text from bytes to UTF-8 string\n"
      ]
    },
    {
      "cell_type": "markdown",
      "metadata": {
        "id": "oBFUg_5_MSeh"
      },
      "source": [
        "#6\n",
        "##Main function redirection to above function based upon file type"
      ]
    },
    {
      "cell_type": "code",
      "execution_count": 7,
      "metadata": {
        "id": "u97-LaThwwHx"
      },
      "outputs": [],
      "source": [
        "def extract_text_from_file(file_path):\n",
        "    if file_path.lower().endswith('.pdf'):  # If the file is a PDF\n",
        "        return extract_text_from_pdf(file_path)  # Extract text from the PDF file\n",
        "    elif file_path.lower().endswith(('.jpg', '.jpeg', '.png', '.gif', '.webp')):  # If the file is an image\n",
        "        return extract_text_from_image(file_path)  # Extract text from the image file\n",
        "    else:  # For other file types such as csv, word document etc\n",
        "        return extract_text_from_other(file_path)  # Extract text using other methods"
      ]
    },
    {
      "cell_type": "markdown",
      "metadata": {
        "id": "g1OYKBkgMhmP"
      },
      "source": [
        "#7\n",
        "##Upload file path\n",
        "##Send file to above main function\n",
        "##And wait for output\n",
        "Try uploading random images or Open Github repository https://github.com/gurtaransingh/scraping and open sample files folder."
      ]
    },
    {
      "cell_type": "code",
      "execution_count": 11,
      "metadata": {
        "colab": {
          "base_uri": "https://localhost:8080/"
        },
        "id": "vICSlXcjwyTZ",
        "outputId": "f3b7f090-eda0-481f-bc2b-a45c5aa135c8"
      },
      "outputs": [
        {
          "ename": "MissingFileError",
          "evalue": "The file \"/Users/yashkumar/Download/merged_data.csv\" can not be found.\nIs this the right path/to/file/you/want/to/extract.csv?",
          "output_type": "error",
          "traceback": [
            "\u001b[0;31m---------------------------------------------------------------------------\u001b[0m",
            "\u001b[0;31mMissingFileError\u001b[0m                          Traceback (most recent call last)",
            "\u001b[1;32m/Users/yashkumar/Downloads/Copy_of_Text_Extraction.ipynb Cell 15\u001b[0m in \u001b[0;36m<module>\u001b[0;34m\u001b[0m\n\u001b[1;32m      <a href='vscode-notebook-cell:/Users/yashkumar/Downloads/Copy_of_Text_Extraction.ipynb#X20sZmlsZQ%3D%3D?line=0'>1</a>\u001b[0m file_path \u001b[39m=\u001b[39m \u001b[39m'\u001b[39m\u001b[39m/Users/yashkumar/Download/merged_data.csv\u001b[39m\u001b[39m'\u001b[39m\n\u001b[0;32m----> <a href='vscode-notebook-cell:/Users/yashkumar/Downloads/Copy_of_Text_Extraction.ipynb#X20sZmlsZQ%3D%3D?line=1'>2</a>\u001b[0m extracted_text \u001b[39m=\u001b[39m extract_text_from_file(file_path)\n\u001b[1;32m      <a href='vscode-notebook-cell:/Users/yashkumar/Downloads/Copy_of_Text_Extraction.ipynb#X20sZmlsZQ%3D%3D?line=2'>3</a>\u001b[0m \u001b[39mprint\u001b[39m(extracted_text)\n",
            "\u001b[1;32m/Users/yashkumar/Downloads/Copy_of_Text_Extraction.ipynb Cell 15\u001b[0m in \u001b[0;36mextract_text_from_file\u001b[0;34m(file_path)\u001b[0m\n\u001b[1;32m      <a href='vscode-notebook-cell:/Users/yashkumar/Downloads/Copy_of_Text_Extraction.ipynb#X20sZmlsZQ%3D%3D?line=4'>5</a>\u001b[0m     \u001b[39mreturn\u001b[39;00m extract_text_from_image(file_path)  \u001b[39m# Extract text from the image file\u001b[39;00m\n\u001b[1;32m      <a href='vscode-notebook-cell:/Users/yashkumar/Downloads/Copy_of_Text_Extraction.ipynb#X20sZmlsZQ%3D%3D?line=5'>6</a>\u001b[0m \u001b[39melse\u001b[39;00m:  \u001b[39m# For other file types such as csv, word document etc\u001b[39;00m\n\u001b[0;32m----> <a href='vscode-notebook-cell:/Users/yashkumar/Downloads/Copy_of_Text_Extraction.ipynb#X20sZmlsZQ%3D%3D?line=6'>7</a>\u001b[0m     \u001b[39mreturn\u001b[39;00m extract_text_from_other(file_path)\n",
            "\u001b[1;32m/Users/yashkumar/Downloads/Copy_of_Text_Extraction.ipynb Cell 15\u001b[0m in \u001b[0;36mextract_text_from_other\u001b[0;34m(file_path)\u001b[0m\n\u001b[1;32m      <a href='vscode-notebook-cell:/Users/yashkumar/Downloads/Copy_of_Text_Extraction.ipynb#X20sZmlsZQ%3D%3D?line=0'>1</a>\u001b[0m \u001b[39mdef\u001b[39;00m \u001b[39mextract_text_from_other\u001b[39m(file_path):\n\u001b[0;32m----> <a href='vscode-notebook-cell:/Users/yashkumar/Downloads/Copy_of_Text_Extraction.ipynb#X20sZmlsZQ%3D%3D?line=1'>2</a>\u001b[0m     text \u001b[39m=\u001b[39m textract\u001b[39m.\u001b[39;49mprocess(file_path)  \u001b[39m# Use textract to extract text from the file\u001b[39;00m\n\u001b[1;32m      <a href='vscode-notebook-cell:/Users/yashkumar/Downloads/Copy_of_Text_Extraction.ipynb#X20sZmlsZQ%3D%3D?line=2'>3</a>\u001b[0m     \u001b[39mreturn\u001b[39;00m text\u001b[39m.\u001b[39mdecode(\u001b[39m'\u001b[39m\u001b[39mutf-8\u001b[39m\u001b[39m'\u001b[39m)\n",
            "File \u001b[0;32m/Library/Frameworks/Python.framework/Versions/3.9/lib/python3.9/site-packages/textract/parsers/__init__.py:41\u001b[0m, in \u001b[0;36mprocess\u001b[0;34m(filename, input_encoding, output_encoding, extension, **kwargs)\u001b[0m\n\u001b[1;32m     39\u001b[0m \u001b[39m# make sure the filename exists\u001b[39;00m\n\u001b[1;32m     40\u001b[0m \u001b[39mif\u001b[39;00m \u001b[39mnot\u001b[39;00m os\u001b[39m.\u001b[39mpath\u001b[39m.\u001b[39mexists(filename):\n\u001b[0;32m---> 41\u001b[0m     \u001b[39mraise\u001b[39;00m exceptions\u001b[39m.\u001b[39mMissingFileError(filename)\n\u001b[1;32m     43\u001b[0m \u001b[39m# get the filename extension, which is something like .docx for\u001b[39;00m\n\u001b[1;32m     44\u001b[0m \u001b[39m# example, and import the module dynamically using importlib. This\u001b[39;00m\n\u001b[1;32m     45\u001b[0m \u001b[39m# is a relative import so the name of the package is necessary\u001b[39;00m\n\u001b[1;32m     46\u001b[0m \u001b[39m# normally, file extension will be extracted from the file name\u001b[39;00m\n\u001b[1;32m     47\u001b[0m \u001b[39m# if the file name has no extension, then the user can pass the\u001b[39;00m\n\u001b[1;32m     48\u001b[0m \u001b[39m# extension as an argument\u001b[39;00m\n\u001b[1;32m     49\u001b[0m \u001b[39mif\u001b[39;00m extension:\n",
            "\u001b[0;31mMissingFileError\u001b[0m: The file \"/Users/yashkumar/Download/merged_data.csv\" can not be found.\nIs this the right path/to/file/you/want/to/extract.csv?"
          ]
        }
      ],
      "source": [
        "file_path = '/Users/yashkumar/Download/merged_data.csv'\n",
        "extracted_text = extract_text_from_file(file_path)\n",
        "print(extracted_text)"
      ]
    },
    {
      "cell_type": "code",
      "execution_count": null,
      "metadata": {
        "colab": {
          "base_uri": "https://localhost:8080/",
          "height": 160
        },
        "id": "dl7GrUoZw0uS",
        "outputId": "e1187fd2-fa7a-4cae-d876-9b4bae3bc113"
      },
      "outputs": [
        {
          "data": {
            "application/vnd.google.colaboratory.intrinsic+json": {
              "type": "string"
            },
            "text/plain": [
              "' \\n\\nSchedule\\n\\n \\n\\nTime & Venue :\\n¢ Offline - 09:00 to 13:00 | Monday to Friday | TAN Audi\\n¢ Online - 15:00 to 18:00 | Monday to Friday | Zoom\\nNote : (1) Be on Time (2) Bring your Laptop (3) Bring power extensions (if possible)\\nBrief Schedule:\\n¢ Week 1 | 05 - 09 June 2023 | Basics of Python, OOPs and Problem-Solving using Python, Pandas, Numpy, Scipy\\n¢ Week 2 | 12 - 16 June 2023 | Machine Learning, Optimization and Statistics, Mini Projects\\n¢ Week 3 | 19 - 23 June 2023 | Web Development - Basics (HTML, CSS, Bootstrap, Javascript, ReactJS, Express and MongoDB)\\n¢ Week 4 | 26 - 30 June 2023 | Web Development - Advance (NextJS, Django, Hosting, ML Model Deployment, Crud)\\n¢ Week 5 | 03 - 07 July 2023 | Deep Learning for Image Processing and Natural Language Processing (NLP)\\n¢ Week 6 | 10 - 14 July 2023 | Time Series, Internet of Things (loT), Cloud Services, Generative Al, Valedictory, Certificate distribution\\n\\n \\n\\n \\n\\x0c'"
            ]
          },
          "execution_count": 8,
          "metadata": {},
          "output_type": "execute_result"
        }
      ],
      "source": [
        "extracted_text"
      ]
    },
    {
      "cell_type": "markdown",
      "metadata": {
        "id": "UCjMqPlXUQxC"
      },
      "source": [
        "#8\n",
        "##Replace \\n and \\t with space"
      ]
    },
    {
      "cell_type": "code",
      "execution_count": null,
      "metadata": {
        "colab": {
          "base_uri": "https://localhost:8080/"
        },
        "id": "G-UGYv23w849",
        "outputId": "fad900db-23fd-4588-c7fe-7b9d72e12e87"
      },
      "outputs": [
        {
          "name": "stdout",
          "output_type": "stream",
          "text": [
            "   Schedule     Time & Venue : ¢ Offline - 09:00 to 13:00 | Monday to Friday | TAN Audi ¢ Online - 15:00 to 18:00 | Monday to Friday | Zoom Note : (1) Be on Time (2) Bring your Laptop (3) Bring power extensions (if possible) Brief Schedule: ¢ Week 1 | 05 - 09 June 2023 | Basics of Python, OOPs and Problem-Solving using Python, Pandas, Numpy, Scipy ¢ Week 2 | 12 - 16 June 2023 | Machine Learning, Optimization and Statistics, Mini Projects ¢ Week 3 | 19 - 23 June 2023 | Web Development - Basics (HTML, CSS, Bootstrap, Javascript, ReactJS, Express and MongoDB) ¢ Week 4 | 26 - 30 June 2023 | Web Development - Advance (NextJS, Django, Hosting, ML Model Deployment, Crud) ¢ Week 5 | 03 - 07 July 2023 | Deep Learning for Image Processing and Natural Language Processing (NLP) ¢ Week 6 | 10 - 14 July 2023 | Time Series, Internet of Things (loT), Cloud Services, Generative Al, Valedictory, Certificate distribution       \f\n"
          ]
        }
      ],
      "source": [
        "text = extracted_text.replace('\\n', ' ').replace('\\t', ' ')\n",
        "print(text)"
      ]
    },
    {
      "cell_type": "markdown",
      "metadata": {
        "id": "Px7tP5G0Vbur"
      },
      "source": [
        "#9 - Homework\n",
        "a) Search online for text written image dataset or use the below given dataset.\n",
        "\n",
        "- https://www.kaggle.com/datasets/mehaksingal/personal-financial-dataset-for-india\n",
        "\n",
        "b) Modify above code to upload a zip file.\n",
        "\n",
        "c) Unzip the file\n",
        "\n",
        "d) Add loops or any other method to read mutiple files at a time\n",
        "\n",
        "e) Output must be extracted text stored in any format (list, sets etc)"
      ]
    },
    {
      "cell_type": "code",
      "execution_count": null,
      "metadata": {
        "id": "JfG-0HCrw-g4"
      },
      "outputs": [],
      "source": []
    }
  ],
  "metadata": {
    "colab": {
      "provenance": []
    },
    "kernelspec": {
      "display_name": "Python 3",
      "name": "python3"
    },
    "language_info": {
      "codemirror_mode": {
        "name": "ipython",
        "version": 3
      },
      "file_extension": ".py",
      "mimetype": "text/x-python",
      "name": "python",
      "nbconvert_exporter": "python",
      "pygments_lexer": "ipython3",
      "version": "3.9.6"
    }
  },
  "nbformat": 4,
  "nbformat_minor": 0
}
